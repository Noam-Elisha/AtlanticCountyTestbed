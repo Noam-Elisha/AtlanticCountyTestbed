{
 "cells": [
  {
   "cell_type": "markdown",
   "id": "3ae729a9",
   "metadata": {},
   "source": [
    "# Joining NSI data with MOD-IV Data"
   ]
  },
  {
   "cell_type": "code",
   "execution_count": 2,
   "id": "a5bba806",
   "metadata": {},
   "outputs": [],
   "source": [
    "import os\n",
    "os.environ['USE_PYGEOS']='0'\n",
    "import geopandas\n",
    "import pandas as pd\n",
    "import numpy as np"
   ]
  },
  {
   "cell_type": "code",
   "execution_count": 3,
   "id": "63014eca",
   "metadata": {},
   "outputs": [],
   "source": [
    "# Import data\n",
    "df_nsi = pd.read_csv('nsi_table.csv')\n",
    "gdf_nsi = geopandas.GeoDataFrame(\n",
    "    df_nsi, geometry=geopandas.points_from_xy(df_nsi.Longitude, df_nsi.Latitude, crs=\"EPSG:4326\")\n",
    ")\n",
    "gdf_parcels_tmp = geopandas.read_file(\"parcels and mod4 atlantic county.geojson\")"
   ]
  },
  {
   "cell_type": "code",
   "execution_count": null,
   "id": "5e300d34",
   "metadata": {},
   "outputs": [],
   "source": [
    "# Removing duplicates\n",
    "\n",
    "res=gdf_parcels_tmp.geometry.duplicated(keep=False)\n",
    "idx = np.where(res)[0]\n",
    "print(\"{} parcels, among {} have duplicate foot print polygon shape:\".format(len(idx),len(gdf_parcels_tmp)))\n",
    "count = 0\n",
    "for i in idx:\n",
    "    count += 1\n",
    "    print(\"count={} i={} {} {}\".format(count, i, gdf_parcels_tmp.iloc[i].geometry.centroid,gdf_parcels_tmp.iloc[i].PROP_LOC))\n",
    "\n",
    "keep_i = [82778 , 110740 , 123408] # choose the ones to keep\n",
    "\n",
    "counts = len(idx)\n",
    "gdf_parcels = gdf_parcels_tmp.copy()\n",
    "for i in range(counts-1,-1,-1):\n",
    "    if idx[i] not in keep_i:\n",
    "        gdf_parcels.drop(idx[i], axis=0, inplace=True)"
   ]
  },
  {
   "cell_type": "code",
   "execution_count": 9,
   "id": "f2f61ba8",
   "metadata": {},
   "outputs": [
    {
     "name": "stdout",
     "output_type": "stream",
     "text": [
      "[]\n"
     ]
    }
   ],
   "source": [
    "res=gdf_parcels.geometry.duplicated(keep=False)\n",
    "idx = np.where(res)[0]\n",
    "print(idx)"
   ]
  },
  {
   "cell_type": "markdown",
   "id": "95837c93",
   "metadata": {},
   "source": [
    "# Join to geodata"
   ]
  },
  {
   "cell_type": "markdown",
   "id": "f64cc8f1",
   "metadata": {},
   "source": [
    "marge parcels into nsi"
   ]
  },
  {
   "cell_type": "code",
   "execution_count": 14,
   "id": "9985a512",
   "metadata": {},
   "outputs": [],
   "source": [
    "gdf_nsi_joined_tmp = geopandas.sjoin(left_df=gdf_nsi,right_df=gdf_parcels, how='left', predicate='covered_by')"
   ]
  },
  {
   "cell_type": "code",
   "execution_count": null,
   "id": "ef423f31",
   "metadata": {},
   "outputs": [
    {
     "name": "stdout",
     "output_type": "stream",
     "text": [
      "nsi=101611\n",
      "parcels=127236\n",
      "nsi_joined=101619\n",
      "redundant=8\n"
     ]
    }
   ],
   "source": [
    "print(\"nsi={}\".format(len(gdf_nsi)))\n",
    "print(\"parcels={}\".format(len(gdf_parcels)))\n",
    "print(\"nsi_joined={}\".format(len(gdf_nsi_joined_tmp)))\n",
    "print(\"redundant={}\".format(len(gdf_nsi_joined_tmp)-len(gdf_nsi)))"
   ]
  },
  {
   "cell_type": "code",
   "execution_count": 19,
   "id": "4ae1861d",
   "metadata": {},
   "outputs": [
    {
     "data": {
      "text/plain": [
       "array([13545, 13546, 13548, 13549, 13550, 13551, 25285, 25286, 25287,\n",
       "       25288, 25289, 25290, 25687, 25688, 25790, 25791], dtype=int64)"
      ]
     },
     "execution_count": 19,
     "metadata": {},
     "output_type": "execute_result"
    }
   ],
   "source": [
    "#finding nonunique building ids\n",
    "res=gdf_nsi_joined_tmp.fid.duplicated(keep=False)\n",
    "idx = np.where(res)[0]\n",
    "idx"
   ]
  },
  {
   "cell_type": "code",
   "execution_count": 20,
   "id": "0c79626e",
   "metadata": {},
   "outputs": [],
   "source": [
    "fid_array = np.array(gdf_nsi_joined_tmp.fid)\n",
    "n_unique = len(np.unique(fid_array[idx]))"
   ]
  },
  {
   "cell_type": "code",
   "execution_count": 21,
   "id": "6fd6536a",
   "metadata": {},
   "outputs": [
    {
     "name": "stdout",
     "output_type": "stream",
     "text": [
      "8 buildings, among 101619 have more than one parcel mapped:\n",
      "count=1 i=13545 761493 POINT (-74.46262067 39.346158516) 112 S WEYMOUTH AVE\n",
      "count=2 i=13546 761493 POINT (-74.46262067 39.346158516) 4501 ATLANTIC AVE\n",
      "count=3 i=13548 1234677 POINT (-74.4626003 39.346190385) 112 S WEYMOUTH AVE\n",
      "count=4 i=13549 1234677 POINT (-74.4626003 39.346190385) 4501 ATLANTIC AVE\n",
      "count=5 i=13550 1234676 POINT (-74.4626003 39.346190385) 112 S WEYMOUTH AVE\n",
      "count=6 i=13551 1234676 POINT (-74.4626003 39.346190385) 4501 ATLANTIC AVE\n",
      "count=7 i=25285 1231558 POINT (-74.4605191 39.351478797) 151 N ANNAPOLIS AVE #8\n",
      "count=8 i=25286 1231558 POINT (-74.4605191 39.351478797) 151 N ANNAPOLIS AVE\n",
      "count=9 i=25287 1231559 POINT (-74.4605191 39.351478797) 151 N ANNAPOLIS AVE #8\n",
      "count=10 i=25288 1231559 POINT (-74.4605191 39.351478797) 151 N ANNAPOLIS AVE\n",
      "count=11 i=25289 716662 POINT (-74.46051679 39.351482236) 151 N ANNAPOLIS AVE #8\n",
      "count=12 i=25290 716662 POINT (-74.46051679 39.351482236) 151 N ANNAPOLIS AVE\n",
      "count=13 i=25687 1235656 POINT (-74.45871428 39.353330523) 6 SPRING MILL LN\n",
      "count=14 i=25688 1235656 POINT (-74.45871428 39.353330523) 3820 SOUTH BLVD\n",
      "count=15 i=25790 1236834 POINT (-74.45334165 39.353625661) 21 N PROVIDENCE, UNIT A\n",
      "count=16 i=25791 1236834 POINT (-74.45334165 39.353625661) 21 N PROVIDENCE AVE\n"
     ]
    }
   ],
   "source": [
    "# Is each parcel unique?\n",
    "print(\"{} buildings, among {} have more than one parcel mapped:\".format(n_unique,len(gdf_nsi_joined_tmp)))\n",
    "count = 0\n",
    "for i in idx:\n",
    "    count += 1\n",
    "    print(\"count={} i={} {} {} {}\".format(count, i, fid_array[i], gdf_nsi_joined_tmp.iloc[i].geometry,gdf_nsi_joined_tmp.iloc[i].ST_ADDRESS,gdf_nsi_joined_tmp.iloc[i].PROP_LOC))    "
   ]
  },
  {
   "cell_type": "code",
   "execution_count": 22,
   "id": "ee48be5c",
   "metadata": {},
   "outputs": [],
   "source": [
    "#keep_i = [75188  , 81260  , 120066 , 120068 , 120268 , 120270 , 120327, 120439 ] # choose the ones to keep\n",
    "keep_i = [13546   ,  13549 , 13551 ,25286 ,25288 ,25290 , 25688  , 25791  ] # choose the ones to keep\n",
    "#(-74.46262067 39.346158516) 4501 ATLANTIC AVE\n",
    "# (-74.4626003 39.346190385) 4501 ATLANTIC AVE\n",
    "# (-74.45871428 39.353330523) 3820 SOUTH BLVD\n",
    "\n",
    "gdf_nsi_joined = gdf_nsi_joined_tmp.copy().reset_index()\n",
    "counts = len(idx)\n",
    "for i in range(counts-1,-1,-1):\n",
    "    if idx[i] not in keep_i:\n",
    "        gdf_nsi_joined.drop(idx[i], axis=0, inplace=True)\n"
   ]
  },
  {
   "cell_type": "code",
   "execution_count": 23,
   "id": "b5ccc388",
   "metadata": {},
   "outputs": [
    {
     "name": "stdout",
     "output_type": "stream",
     "text": [
      "nsi=101611\n",
      "parcels=127236\n",
      "nsi_joined=101611\n",
      "redundant=0\n"
     ]
    }
   ],
   "source": [
    "print(\"nsi={}\".format(len(gdf_nsi)))\n",
    "print(\"parcels={}\".format(len(gdf_parcels)))\n",
    "print(\"nsi_joined={}\".format(len(gdf_nsi_joined)))\n",
    "print(\"redundant={}\".format(len(gdf_nsi_joined)-len(gdf_nsi)))"
   ]
  },
  {
   "cell_type": "code",
   "execution_count": 24,
   "id": "17d52d25",
   "metadata": {
    "scrolled": true
   },
   "outputs": [],
   "source": [
    "# import shapely.ops as so\n",
    "# import matplotlib.pyplot as plt\n",
    "\n",
    "# pidx = 0\n",
    "\n",
    "# r1=gdf_parcels.loc[int(gdf_nsi_joined.iloc[idx[pidx]].index_right)].geometry\n",
    "# r2=gdf_parcels.loc[int(gdf_nsi_joined.iloc[idx[pidx+1]].index_right)].geometry\n",
    "# r3=gdf_nsi_joined.iloc[idx[pidx]].geometry\n",
    "# r4=gdf_nsi.iloc[idx[pidx]].geometry\n",
    "\n",
    "# ax = geopandas.GeoSeries(r2).plot()\n",
    "# geopandas.GeoSeries(r4).plot(ax=ax, color=\"red\")"
   ]
  },
  {
   "cell_type": "markdown",
   "id": "9a3b0da2",
   "metadata": {},
   "source": [
    "# inspect the final table"
   ]
  },
  {
   "cell_type": "code",
   "execution_count": 25,
   "id": "c7b3af83",
   "metadata": {},
   "outputs": [
    {
     "name": "stdout",
     "output_type": "stream",
     "text": [
      "missing perc: 4.9492673037368 %\n",
      "5029 among 101611 missing\n"
     ]
    }
   ],
   "source": [
    "missing_N = gdf_nsi_joined.index_right.isna().sum()\n",
    "N =len(gdf_nsi_joined)\n",
    "missing_perc = missing_N/N\n",
    "print(\"missing perc: {} %\".format(missing_perc*100))\n",
    "print(\"{} among {} missing\".format(missing_N, N))"
   ]
  },
  {
   "cell_type": "code",
   "execution_count": 37,
   "id": "a455f679",
   "metadata": {},
   "outputs": [
    {
     "name": "stdout",
     "output_type": "stream",
     "text": [
      "nonunique perc: 16.71015303058541 %\n",
      "16139 among 96582 nonunique\n"
     ]
    }
   ],
   "source": [
    "# nonunique_p_N = sum(gdf_nsi_joined.PAMS_PIN.duplicated(keep=False))\n",
    "nonunique_p_N = sum((1-gdf_nsi_joined.PAMS_PIN.isna())*gdf_nsi_joined.PAMS_PIN.duplicated(keep=False))\n",
    "nonunique_perc = nonunique_p_N/(N-missing_N)\n",
    "print(\"nonunique perc: {} %\".format(nonunique_perc*100))\n",
    "print(\"{} among {} nonunique\".format(nonunique_p_N, N-missing_N))\n"
   ]
  },
  {
   "cell_type": "code",
   "execution_count": 38,
   "id": "28580452",
   "metadata": {},
   "outputs": [
    {
     "name": "stdout",
     "output_type": "stream",
     "text": [
      "nonunique perc: 21.91712741504628 %\n",
      "21168 among 96582 nonunique\n"
     ]
    }
   ],
   "source": [
    "nonunique_p_N = sum(gdf_nsi_joined.PAMS_PIN.duplicated(keep=False))\n",
    "# nonunique_p_N = sum((1-gdf_nsi_joined.PAMS_PIN.isna())*gdf_nsi_joined.PAMS_PIN.duplicated(keep=False))\n",
    "nonunique_perc = nonunique_p_N/(N-missing_N)\n",
    "print(\"nonunique perc: {} %\".format(nonunique_perc*100))\n",
    "print(\"{} among {} nonunique\".format(nonunique_p_N, N-missing_N))\n"
   ]
  },
  {
   "cell_type": "code",
   "execution_count": 35,
   "id": "4745272d",
   "metadata": {},
   "outputs": [
    {
     "data": {
      "text/plain": [
       "0         False\n",
       "1         False\n",
       "2         False\n",
       "3         False\n",
       "4         False\n",
       "          ...  \n",
       "101614    False\n",
       "101615    False\n",
       "101616    False\n",
       "101617    False\n",
       "101618    False\n",
       "Name: PAMS_PIN, Length: 101611, dtype: bool"
      ]
     },
     "execution_count": 35,
     "metadata": {},
     "output_type": "execute_result"
    }
   ],
   "source": [
    "(gdf_nsi_joined.PAMS_PIN.isna())"
   ]
  },
  {
   "cell_type": "code",
   "execution_count": 27,
   "id": "2b8cfc7c",
   "metadata": {},
   "outputs": [
    {
     "name": "stdout",
     "output_type": "stream",
     "text": [
      "index\n",
      "Unnamed: 0\n",
      "fid\n",
      "shape\n",
      "fd_id\n",
      "bid\n",
      "cbfips\n",
      "st_damcat\n",
      "occtype\n",
      "bldgtype\n",
      "num_story\n",
      "sqft\n",
      "found_type\n",
      "found_ht\n",
      "med_yr_blt\n",
      "val_struct\n",
      "val_cont\n",
      "val_vehic\n",
      "ftprntid\n",
      "ftprntsrc\n",
      "source\n",
      "students\n",
      "pop2amu65\n",
      "pop2amo65\n",
      "pop2pmu65\n",
      "pop2pmo65\n",
      "o65disable\n",
      "u65disable\n",
      "firmzone\n",
      "grnd_elv_m\n",
      "ground_elv\n",
      "Latitude\n",
      "Longitude\n",
      "geometry\n",
      "index_right\n",
      "OBJECTID\n",
      "PAMS_PIN\n",
      "PCL_MUN\n",
      "PCLBLOCK\n",
      "PCLLOT\n",
      "PCLQCODE\n",
      "PCLLASTUPD\n",
      "PIN_NODUP\n",
      "GIS_PIN\n",
      "CD_CODE\n",
      "PROP_CLASS\n",
      "COUNTY\n",
      "MUN_NAME\n",
      "PROP_LOC\n",
      "OWNER_NAME\n",
      "ST_ADDRESS\n",
      "CITY_STATE\n",
      "ZIP_CODE\n",
      "LAND_VAL\n",
      "IMPRVT_VAL\n",
      "NET_VALUE\n",
      "LAST_YR_TX\n",
      "BLDG_DESC\n",
      "LAND_DESC\n",
      "CALC_ACRE\n",
      "ADD_LOTS1\n",
      "ADD_LOTS2\n",
      "FAC_NAME\n",
      "PROP_USE\n",
      "BLDG_CLASS\n",
      "DEED_BOOK\n",
      "DEED_PAGE\n",
      "DEED_DATE\n",
      "YR_CONSTR\n",
      "SALES_CODE\n",
      "SALE_PRICE\n",
      "DWELL\n",
      "COMM_DWELL\n",
      "OLD_PROPID\n",
      "ZIP5\n",
      "ZIP_PLUS4\n",
      "PCL_PBDATE\n",
      "PCL_GUID\n",
      "SHAPE_Length\n",
      "SHAPE_Area\n"
     ]
    }
   ],
   "source": [
    "#Final list of columns\n",
    "for col in gdf_nsi_joined.columns:\n",
    "    print(col)"
   ]
  },
  {
   "cell_type": "code",
   "execution_count": 39,
   "id": "7b4158cb",
   "metadata": {},
   "outputs": [],
   "source": [
    "#Chose subset of columns\n",
    "mylist = ['fid', 'st_damcat', 'occtype', 'bldgtype','num_story','sqft','found_type','found_ht','med_yr_blt','val_struct','val_cont','val_vehic','source','students','pop2amu65','pop2amo65','pop2pmu65','pop2pmo65','o65disable','u65disable','firmzone','grnd_elv_m','ground_elv','Latitude','Longitude','PROP_CLASS','COUNTY','PROP_LOC','CITY_STATE','PROP_USE','BLDG_CLASS','YR_CONSTR']\n",
    "gdf_nsi_joined_simpler=gdf_nsi_joined[mylist]"
   ]
  },
  {
   "cell_type": "code",
   "execution_count": 40,
   "id": "2ab2b49e",
   "metadata": {},
   "outputs": [],
   "source": [
    "gdf_nsi_joined.to_file(\"./nsi_njdep.geojson\", driver=\"GeoJSON\")  "
   ]
  },
  {
   "cell_type": "code",
   "execution_count": 41,
   "id": "40a5e9c6",
   "metadata": {},
   "outputs": [],
   "source": [
    "gdf_nsi_joined_simpler.to_csv(\"./nsi_njdep_simplified.csv\")  "
   ]
  }
 ],
 "metadata": {
  "kernelspec": {
   "display_name": "Python 3 (ipykernel)",
   "language": "python",
   "name": "python3"
  },
  "language_info": {
   "codemirror_mode": {
    "name": "ipython",
    "version": 3
   },
   "file_extension": ".py",
   "mimetype": "text/x-python",
   "name": "python",
   "nbconvert_exporter": "python",
   "pygments_lexer": "ipython3",
   "version": "3.8.10"
  }
 },
 "nbformat": 4,
 "nbformat_minor": 5
}
