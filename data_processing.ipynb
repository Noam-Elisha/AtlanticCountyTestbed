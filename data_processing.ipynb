{
 "cells": [
  {
   "cell_type": "markdown",
   "metadata": {},
   "source": [
    "# Data Processing"
   ]
  },
  {
   "cell_type": "markdown",
   "metadata": {},
   "source": [
    "## Extract Data from NSI Dataset\n",
    "NSI has data for the whole state of New Jersey but we only wany Atlantic County"
   ]
  },
  {
   "cell_type": "code",
   "execution_count": 5,
   "metadata": {},
   "outputs": [],
   "source": [
    "import sqlite3\n",
    "import pandas as pd\n",
    "\n",
    "\n",
    "# Connect to the NSI SQLite3 database\n",
    "conn = sqlite3.connect('../nsi_2022_34.gpkg/nsi_2022_34.gpkg')\n",
    "\n",
    "# Create a cursor object to interact with the database\n",
    "cursor = conn.cursor()\n",
    "\n",
    "# Execute an SQL query to fetch data from a bounding box around Atlantic County (with some excess)\n",
    "cursor.execute(f\"SELECT * FROM nsi WHERE x > -76 AND x < -70 AND y > 28 AND y < 40\")\n",
    "\n",
    "# Fetch all the rows from the result set\n",
    "rows = cursor.fetchall()\n",
    "\n",
    "# Convert to a Pandas DataFrame\n",
    "column_names = [desc[0] for desc in cursor.description]\n",
    "nsi_data = pd.DataFrame(rows, columns=column_names)\n",
    "\n",
    "# Renaming x and y to Longitude and Latitude respectively\n",
    "nsi_data[\"Latitude\"] = nsi_data.y\n",
    "nsi_data[\"Longitude\"] = nsi_data.x\n",
    "nsi_data.drop(columns=[\"x\", \"y\"], inplace=True)"
   ]
  },
  {
   "cell_type": "code",
   "execution_count": 7,
   "metadata": {},
   "outputs": [],
   "source": [
    "import geopandas\n",
    "\n",
    "# Load in New Jersey Atlantic County border data.\n",
    "geodf = geopandas.read_file(\"County_Boundaries_of_NJ.geojson\")\n",
    "atlantic_county = geodf[geodf[\"COUNTY\"] == \"ATLANTIC\"]\n",
    "\n",
    "nsi_gp = geopandas.GeoDataFrame(\n",
    "    nsi_data, geometry=geopandas.points_from_xy(nsi_data.Longitude, nsi_data.Latitude), crs=\"EPSG:4326\"\n",
    ")\n",
    "\n",
    "# Select points inside atlantic county and only the columns from nsi\n",
    "atlantic_county_nsi = geopandas.sjoin(atlantic_county, nsi_gp, predicate='contains')\n",
    "to_file = atlantic_county_nsi[nsi_data.columns]\n",
    "\n",
    "# Output to file\n",
    "df = pd.DataFrame(to_file)\n",
    "df.to_csv(\"nsi_table.csv\")"
   ]
  },
  {
   "cell_type": "markdown",
   "metadata": {},
   "source": [
    "## Getting MOD-IV Parcel Centroids"
   ]
  },
  {
   "cell_type": "markdown",
   "metadata": {},
   "source": [
    "### Removing parcels outside Atlantic County\n",
    "The file is too big to work with as JSON, so we edit it as a text file to get rid of unwanted rows"
   ]
  },
  {
   "cell_type": "code",
   "execution_count": null,
   "metadata": {},
   "outputs": [],
   "source": [
    "import geopandas\n",
    "import pandas as pd"
   ]
  },
  {
   "cell_type": "code",
   "execution_count": null,
   "metadata": {},
   "outputs": [],
   "source": [
    "atlantic_county_rows = []\n",
    "with open(\"parcels and mod4.geojson\", \"r\") as f:\n",
    "    for line in f.readlines():\n",
    "        if '\"COUNTY\": \"ATLANTIC\"' in line:\n",
    "            atlantic_county_rows.append(line)\n",
    "with open(\"parcels and mod4 atlantic county.geojson\", \"w\") as f:\n",
    "    for row in atlantic_county_rows:\n",
    "        f.write(row)\n",
    "    f.write(\"{}\\n]\\n}\")"
   ]
  },
  {
   "cell_type": "code",
   "execution_count": null,
   "metadata": {},
   "outputs": [],
   "source": [
    "parcels_mod4 = geopandas.read_file(\"parcels and mod4 atlantic county.geojson\")\n",
    "\n",
    "centroids = parcels_mod4[\"geometry\"].apply(lambda geom: geom.centroid)\n",
    "lons = centroids.apply(lambda coord: coord.x)\n",
    "lats = centroids.apply(lambda coord: coord.y)\n",
    "parcels_mod4[\"Latitude\"] = lats\n",
    "parcels_mod4[\"Longitude\"] = lons\n",
    "\n",
    "df = pd.DataFrame()\n",
    "for column in centroids.drop(columns=[\"geometry\"]).columns:\n",
    "    df[column] = centroids[column]\n",
    "df.to_csv(\"parcels and mod4 atlantic county.csv\")"
   ]
  }
 ],
 "metadata": {
  "kernelspec": {
   "display_name": "Python 3",
   "language": "python",
   "name": "python3"
  },
  "language_info": {
   "name": "python",
   "version": "3.11.4"
  }
 },
 "nbformat": 4,
 "nbformat_minor": 2
}
